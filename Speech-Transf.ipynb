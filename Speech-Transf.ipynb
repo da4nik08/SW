{
 "cells": [
  {
   "cell_type": "code",
   "execution_count": 1,
   "id": "e68f61da-429b-4ac3-986c-1cbfdb04c2aa",
   "metadata": {
    "tags": []
   },
   "outputs": [],
   "source": [
    "import torch"
   ]
  },
  {
   "cell_type": "code",
   "execution_count": 2,
   "id": "37d00a06-9cac-4392-a75e-9569cb849ed0",
   "metadata": {
    "tags": []
   },
   "outputs": [
    {
     "name": "stdout",
     "output_type": "stream",
     "text": [
      "Tensor A:\n",
      "tensor([[0.9394, 0.1616, 0.2814, 0.2813],\n",
      "        [0.1351, 0.9844, 0.1524, 0.2958],\n",
      "        [0.5543, 0.0728, 0.3174, 0.0365]])\n",
      "\n",
      "Tensor B:\n",
      "tensor([[0.1691, 0.5382, 0.7694, 0.8726],\n",
      "        [0.7927, 0.2940, 0.2417, 0.3623],\n",
      "        [0.3522, 0.1887, 0.0552, 0.9890]])\n",
      "\n",
      "Does Tensor A equal Tensor B? (anywhere)\n"
     ]
    },
    {
     "data": {
      "text/plain": [
       "tensor([[False, False, False, False],\n",
       "        [False, False, False, False],\n",
       "        [False, False, False, False]])"
      ]
     },
     "execution_count": 2,
     "metadata": {},
     "output_type": "execute_result"
    }
   ],
   "source": [
    "random_tensor_A = torch.rand(3, 4)\n",
    "random_tensor_B = torch.rand(3, 4)\n",
    "\n",
    "print(f\"Tensor A:\\n{random_tensor_A}\\n\")\n",
    "print(f\"Tensor B:\\n{random_tensor_B}\\n\")\n",
    "print(f\"Does Tensor A equal Tensor B? (anywhere)\")\n",
    "random_tensor_A == random_tensor_B"
   ]
  },
  {
   "cell_type": "code",
   "execution_count": null,
   "id": "7bede578-6d46-4225-8d2b-73b6c132754c",
   "metadata": {},
   "outputs": [],
   "source": []
  }
 ],
 "metadata": {
  "kernelspec": {
   "display_name": "Python 3 (ipykernel)",
   "language": "python",
   "name": "python3"
  },
  "language_info": {
   "codemirror_mode": {
    "name": "ipython",
    "version": 3
   },
   "file_extension": ".py",
   "mimetype": "text/x-python",
   "name": "python",
   "nbconvert_exporter": "python",
   "pygments_lexer": "ipython3",
   "version": "3.11.3"
  }
 },
 "nbformat": 4,
 "nbformat_minor": 5
}
