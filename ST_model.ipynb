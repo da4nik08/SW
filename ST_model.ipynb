{
 "cells": [
  {
   "cell_type": "code",
   "execution_count": null,
   "id": "a2f3c258-40e9-44b8-9c55-c947c8d1b90c",
   "metadata": {},
   "outputs": [],
   "source": [
    "def get_spectr(np_wav_files, nperseg=512, samplerate=24000):\n",
    "    output = list()\n",
    "    for i, wav in enumerate(np_wav_files):\n",
    "        _, _, spect = signal.stft(wav, samplerate, nperseg=nperseg)\n",
    "        output.append(spect)\n",
    "        if i % 500 == 0: print(i)\n",
    "    return output"
   ]
  },
  {
   "cell_type": "code",
   "execution_count": null,
   "id": "402fc5b3-d569-4a13-82e3-9fe92619d5e6",
   "metadata": {},
   "outputs": [],
   "source": [
    "spect_wav = get_spectr(np_wav_files)"
   ]
  },
  {
   "cell_type": "code",
   "execution_count": null,
   "id": "84949da5-f671-44a4-a2df-ef0e4d791b40",
   "metadata": {},
   "outputs": [],
   "source": [
    "def get_pkl(file_path):\n",
    "    with open(file_path, 'rb') as file:\n",
    "        loaded_list = pickle.load(file)\n",
    "    return loaded_list"
   ]
  },
  {
   "cell_type": "code",
   "execution_count": 1,
   "id": "edd7339d-665c-422e-9f13-7385392aa25d",
   "metadata": {
    "tags": []
   },
   "outputs": [
    {
     "name": "stdout",
     "output_type": "stream",
     "text": [
      "1\n"
     ]
    }
   ],
   "source": [
    "print(1)"
   ]
  },
  {
   "cell_type": "code",
   "execution_count": null,
   "id": "37d931c4-5e0c-459b-ab52-a9024ad9933d",
   "metadata": {},
   "outputs": [],
   "source": []
  }
 ],
 "metadata": {
  "kernelspec": {
   "display_name": "Python 3 (ipykernel)",
   "language": "python",
   "name": "python3"
  },
  "language_info": {
   "codemirror_mode": {
    "name": "ipython",
    "version": 3
   },
   "file_extension": ".py",
   "mimetype": "text/x-python",
   "name": "python",
   "nbconvert_exporter": "python",
   "pygments_lexer": "ipython3",
   "version": "3.11.3"
  }
 },
 "nbformat": 4,
 "nbformat_minor": 5
}
