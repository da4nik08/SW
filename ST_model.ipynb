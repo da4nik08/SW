{
 "cells": [
  {
   "cell_type": "code",
   "execution_count": 2,
   "id": "8159cabd-100f-4427-8529-a859c288b103",
   "metadata": {
    "tags": []
   },
   "outputs": [],
   "source": [
    "import torch\n",
    "from torch.utils.data import Dataset, DataLoader\n",
    "from custom_dataset import CustomDataset\n",
    "from collate import collate_fn\n",
    "from torch import nn\n",
    "import pickle\n",
    "from scipy import signal\n",
    "import numpy as np\n",
    "import matplotlib.pyplot as plt\n",
    "import librosa\n",
    "import sklearn\n",
    "from sklearn import preprocessing\n",
    "import math"
   ]
  },
  {
   "cell_type": "code",
   "execution_count": 11,
   "id": "4c4cb856-9b7f-49a4-9ccc-f33e12dea544",
   "metadata": {
    "tags": []
   },
   "outputs": [],
   "source": [
    "device = torch.device('cuda' if torch.cuda.is_available() else 'cpu')"
   ]
  },
  {
   "cell_type": "code",
   "execution_count": 12,
   "id": "be4059f5-6533-49ca-94dc-5340dd4f1cd2",
   "metadata": {
    "tags": []
   },
   "outputs": [
    {
     "name": "stdout",
     "output_type": "stream",
     "text": [
      "cuda\n"
     ]
    }
   ],
   "source": [
    "#model.to(device)"
   ]
  },
  {
   "cell_type": "code",
   "execution_count": 2,
   "id": "84949da5-f671-44a4-a2df-ef0e4d791b40",
   "metadata": {},
   "outputs": [],
   "source": [
    "def get_pkl(file_path):\n",
    "    with open(file_path, 'rb') as file:\n",
    "        loaded_list = pickle.load(file)\n",
    "    return loaded_list"
   ]
  },
  {
   "cell_type": "code",
   "execution_count": 3,
   "id": "402fc5b3-d569-4a13-82e3-9fe92619d5e6",
   "metadata": {},
   "outputs": [],
   "source": [
    "np_wav = get_pkl('np_wavs_cut.pkl')"
   ]
  },
  {
   "cell_type": "code",
   "execution_count": 4,
   "id": "4053f9db-7a63-4272-9491-14b0e5b9ed53",
   "metadata": {
    "tags": []
   },
   "outputs": [],
   "source": [
    "np_wav = np_wav[:10000]"
   ]
  },
  {
   "cell_type": "code",
   "execution_count": 25,
   "id": "38d51cbb-60db-4476-ba91-696afcf5bc9f",
   "metadata": {
    "tags": []
   },
   "outputs": [],
   "source": [
    "del np_wav "
   ]
  },
  {
   "cell_type": "code",
   "execution_count": 5,
   "id": "f9d09e58-acd5-4076-8537-70f8c2ed8c02",
   "metadata": {
    "tags": []
   },
   "outputs": [],
   "source": [
    "str_list = get_pkl('str_list_cut.pkl')"
   ]
  },
  {
   "cell_type": "code",
   "execution_count": 6,
   "id": "6444c7ba-e462-4bdc-a8e0-c8585a555b55",
   "metadata": {},
   "outputs": [],
   "source": [
    "str_list = str_list[:10000]"
   ]
  },
  {
   "cell_type": "code",
   "execution_count": 7,
   "id": "7e66648f-8cca-41ab-8698-95e573c0fdee",
   "metadata": {
    "tags": []
   },
   "outputs": [
    {
     "name": "stdout",
     "output_type": "stream",
     "text": [
      "10000\n",
      "10000\n"
     ]
    }
   ],
   "source": [
    "print(len(np_wav))\n",
    "print(len(str_list))"
   ]
  },
  {
   "cell_type": "code",
   "execution_count": 13,
   "id": "aabc663a-ae5e-48e1-b3c1-a49146a34b8d",
   "metadata": {
    "tags": []
   },
   "outputs": [],
   "source": [
    "def max_len(np_wav):    \n",
    "    length = [len(x) for x in np_wav]\n",
    "    \n",
    "    combined_list = list(zip(length, np_wav))\n",
    "\n",
    "    # Sort the combined list based on the elements of the first list\n",
    "    sorted_list = sorted(combined_list, key=lambda x: x[0])\n",
    "\n",
    "    # Separate the sorted elements into separate lists\n",
    "    sorted_first_list, sorted_second_list = zip(*sorted_list)\n",
    "    \n",
    "    return sorted_first_list, sorted_second_list"
   ]
  },
  {
   "cell_type": "code",
   "execution_count": 22,
   "id": "4361aac2-95f3-4690-bb63-cc5955e70553",
   "metadata": {
    "tags": []
   },
   "outputs": [
    {
     "ename": "NameError",
     "evalue": "name 'np_wav' is not defined",
     "output_type": "error",
     "traceback": [
      "\u001b[1;31m---------------------------------------------------------------------------\u001b[0m",
      "\u001b[1;31mNameError\u001b[0m                                 Traceback (most recent call last)",
      "Cell \u001b[1;32mIn[22], line 1\u001b[0m\n\u001b[1;32m----> 1\u001b[0m x, y \u001b[38;5;241m=\u001b[39m max_len(\u001b[43mnp_wav\u001b[49m)\n",
      "\u001b[1;31mNameError\u001b[0m: name 'np_wav' is not defined"
     ]
    }
   ],
   "source": [
    "x, y = max_len(np_wav)"
   ]
  },
  {
   "cell_type": "code",
   "execution_count": 15,
   "id": "cff06178-5127-4f24-a8a9-c76f8edb989b",
   "metadata": {
    "tags": []
   },
   "outputs": [
    {
     "ename": "AttributeError",
     "evalue": "'str' object has no attribute 'astype'",
     "output_type": "error",
     "traceback": [
      "\u001b[1;31m---------------------------------------------------------------------------\u001b[0m",
      "\u001b[1;31mAttributeError\u001b[0m                            Traceback (most recent call last)",
      "Cell \u001b[1;32mIn[15], line 2\u001b[0m\n\u001b[0;32m      1\u001b[0m \u001b[38;5;28;01mfor\u001b[39;00m i \u001b[38;5;129;01min\u001b[39;00m y[\u001b[38;5;241m-\u001b[39m\u001b[38;5;241m10\u001b[39m:]:\n\u001b[1;32m----> 2\u001b[0m     mfcc \u001b[38;5;241m=\u001b[39m librosa\u001b[38;5;241m.\u001b[39mfeature\u001b[38;5;241m.\u001b[39mmfcc(y\u001b[38;5;241m=\u001b[39m\u001b[43mi\u001b[49m\u001b[38;5;241;43m.\u001b[39;49m\u001b[43mastype\u001b[49m(\u001b[38;5;28mfloat\u001b[39m), sr\u001b[38;5;241m=\u001b[39m\u001b[38;5;241m24000\u001b[39m, hop_length\u001b[38;5;241m=\u001b[39m\u001b[38;5;241m512\u001b[39m)\n\u001b[0;32m      3\u001b[0m     \u001b[38;5;28mprint\u001b[39m(mfcc\u001b[38;5;241m.\u001b[39mshape)\n",
      "\u001b[1;31mAttributeError\u001b[0m: 'str' object has no attribute 'astype'"
     ]
    }
   ],
   "source": [
    "for i in y[-10:]:\n",
    "    mfcc = librosa.feature.mfcc(y=i.astype(float), sr=24000, hop_length=512)\n",
    "    print(mfcc.shape)"
   ]
  },
  {
   "cell_type": "code",
   "execution_count": 56,
   "id": "78d1b774-7d4e-4513-8415-651143f1f01f",
   "metadata": {
    "tags": []
   },
   "outputs": [],
   "source": [
    "f, t, processed_data = signal.stft(y[3000], 24000, nperseg=1024)\n",
    "\n",
    "# Create a new array filled with zeros of the desired shape\n",
    "new_array = np.pad(processed_data, ((0, 0), (0, 939 - processed_data.shape[1])), mode='constant')"
   ]
  },
  {
   "cell_type": "code",
   "execution_count": 8,
   "id": "1ee1fd4a-39bd-4612-9a4b-a7e46dd53cc6",
   "metadata": {
    "tags": []
   },
   "outputs": [
    {
     "data": {
      "text/plain": [
       "<matplotlib.collections.QuadMesh at 0x1b14c772010>"
      ]
     },
     "execution_count": 8,
     "metadata": {},
     "output_type": "execute_result"
    },
    {
     "data": {
      "image/png": "[encoded data removed]",
      "text/plain": [
       "<Figure size 640x480 with 1 Axes>"
      ]
     },
     "metadata": {},
     "output_type": "display_data"
    }
   ],
   "source": [
    "mfcc = librosa.feature.mfcc(y=np_wav[5].astype(float), sr=24000, hop_length=1024)\n",
    "pd = sklearn.preprocessing.scale(mfcc, axis=1)\n",
    "mean = np.mean(pd, axis=1, keepdims=True)\n",
    "std = np.std(pd, axis=1, keepdims=True)\n",
    "pd = (pd - mean) / std\n",
    "new_shape = int(469)\n",
    "new = np.pad(pd, ((0, 0), (0, new_shape - pd.shape[1])), mode='constant')\n",
    "librosa.display.specshow(new, sr=24000, x_axis='time')"
   ]
  },
  {
   "cell_type": "code",
   "execution_count": 9,
   "id": "ec962456-8202-45d5-afab-3883bbd6b949",
   "metadata": {
    "tags": []
   },
   "outputs": [
    {
     "data": {
      "text/plain": [
       "<matplotlib.collections.QuadMesh at 0x1b14cf27510>"
      ]
     },
     "execution_count": 9,
     "metadata": {},
     "output_type": "execute_result"
    },
    {
     "data": {
      "image/png": "[encoded data removed]",
      "text/plain": [
       "<Figure size 640x480 with 1 Axes>"
      ]
     },
     "metadata": {},
     "output_type": "display_data"
    }
   ],
   "source": [
    "librosa.display.specshow(pd, sr=24000, x_axis='time')"
   ]
  },
  {
   "cell_type": "code",
   "execution_count": 15,
   "id": "cb07b68f-83b1-4d26-b395-5680bc6346a2",
   "metadata": {
    "tags": []
   },
   "outputs": [
    {
     "data": {
      "text/plain": [
       "(20, 469)"
      ]
     },
     "execution_count": 15,
     "metadata": {},
     "output_type": "execute_result"
    }
   ],
   "source": [
    "new.shape"
   ]
  },
  {
   "cell_type": "code",
   "execution_count": null,
   "id": "57fcafcc-b8e0-49dd-92d4-088dfcc8f95f",
   "metadata": {},
   "outputs": [],
   "source": [
    "positional_encoding(positions, d)"
   ]
  },
  {
   "cell_type": "code",
   "execution_count": null,
   "id": "eca13bcc-ced8-4847-8200-2ee961ed54aa",
   "metadata": {},
   "outputs": [],
   "source": []
  },
  {
   "cell_type": "code",
   "execution_count": 48,
   "id": "fb3fb656-d860-46d1-b0ad-ab7a78ff5800",
   "metadata": {
    "tags": []
   },
   "outputs": [],
   "source": [
    "lin = nn.Linear(469, 469, bias=False)"
   ]
  },
  {
   "cell_type": "code",
   "execution_count": 50,
   "id": "42ff88ac-9ebe-43f8-9833-35bff6c3f241",
   "metadata": {
    "tags": []
   },
   "outputs": [],
   "source": [
    "conv = nn.Conv2d(1, 64, 3, padding=(0, 1), stride=(2, 1))"
   ]
  },
  {
   "cell_type": "code",
   "execution_count": 19,
   "id": "00df3549-a83c-4a56-8526-7aa6fb7b0d0d",
   "metadata": {
    "tags": []
   },
   "outputs": [],
   "source": [
    "c = torch.tensor(np.expand_dims(np.swapaxes(new,0,1), axis=0), dtype=torch.float)"
   ]
  },
  {
   "cell_type": "code",
   "execution_count": 28,
   "id": "3c942541-eaf3-43d8-b934-0fb02e595e9e",
   "metadata": {
    "tags": []
   },
   "outputs": [],
   "source": [
    "c2 = torch.tensor(np.expand_dims(np.expand_dims(np.swapaxes(new,0,1), axis=0), axis=0), dtype=torch.float)"
   ]
  },
  {
   "cell_type": "code",
   "execution_count": 41,
   "id": "4867bc02-36cf-41c8-bec9-780f6669e6ce",
   "metadata": {
    "tags": []
   },
   "outputs": [],
   "source": [
    "sfe = SpeechFeatureEmbedding(20)"
   ]
  },
  {
   "cell_type": "code",
   "execution_count": 42,
   "id": "1ed769a4-7b59-4e6f-b868-f7a6540c7bf2",
   "metadata": {
    "tags": []
   },
   "outputs": [],
   "source": [
    "output = sfe(c2)"
   ]
  },
  {
   "cell_type": "code",
   "execution_count": 54,
   "id": "bbf55eb2-9e9d-411a-b799-1710b2247d61",
   "metadata": {
    "tags": []
   },
   "outputs": [
    {
     "data": {
      "text/plain": [
       "tensor([[[ 3.7262e-01,  1.1149e+00, -1.1630e-01,  ...,  1.0858e+00,\n",
       "           4.0863e-01, -2.9363e-01],\n",
       "         [ 5.2365e-01,  1.1063e-01,  6.3219e-02,  ...,  4.1612e-01,\n",
       "           3.7970e-01,  5.5748e-02],\n",
       "         [ 8.0041e-02, -1.7216e-01,  2.5616e-01,  ..., -8.8681e-02,\n",
       "           8.5591e-01,  2.1082e-04],\n",
       "         ...,\n",
       "         [ 6.0426e-03,  1.3562e-01, -4.4290e-02,  ...,  3.1960e-02,\n",
       "           7.7187e-02, -2.0051e-02],\n",
       "         [ 6.0426e-03,  1.3562e-01, -4.4290e-02,  ...,  3.1960e-02,\n",
       "           7.7187e-02, -2.0051e-02],\n",
       "         [ 6.0426e-03,  1.3562e-01, -4.4290e-02,  ...,  3.1960e-02,\n",
       "           7.7187e-02, -2.0051e-02]]], grad_fn=<SqueezeBackward1>)"
      ]
     },
     "execution_count": 54,
     "metadata": {},
     "output_type": "execute_result"
    }
   ],
   "source": [
    "output"
   ]
  },
  {
   "cell_type": "code",
   "execution_count": 56,
   "id": "a5442b51-292b-4bf7-9992-cf1ff75bbf5d",
   "metadata": {
    "tags": []
   },
   "outputs": [
    {
     "data": {
      "text/plain": [
       "tensor([[[ 3.7262e-01,  1.1149e+00, -1.1630e-01,  ...,  1.0858e+00,\n",
       "           4.0863e-01, -2.9363e-01],\n",
       "         [ 5.2365e-01,  1.1063e-01,  6.3219e-02,  ...,  4.1612e-01,\n",
       "           3.7970e-01,  5.5748e-02],\n",
       "         [ 8.0041e-02, -1.7216e-01,  2.5616e-01,  ..., -8.8681e-02,\n",
       "           8.5591e-01,  2.1082e-04],\n",
       "         ...,\n",
       "         [ 6.0426e-03,  1.3562e-01, -4.4290e-02,  ...,  3.1960e-02,\n",
       "           7.7187e-02, -2.0051e-02],\n",
       "         [ 6.0426e-03,  1.3562e-01, -4.4290e-02,  ...,  3.1960e-02,\n",
       "           7.7187e-02, -2.0051e-02],\n",
       "         [ 6.0426e-03,  1.3562e-01, -4.4290e-02,  ...,  3.1960e-02,\n",
       "           7.7187e-02, -2.0051e-02]]], grad_fn=<SqueezeBackward1>)"
      ]
     },
     "execution_count": 56,
     "metadata": {},
     "output_type": "execute_result"
    }
   ],
   "source": [
    "torch.squeeze(output, 1)"
   ]
  },
  {
   "cell_type": "code",
   "execution_count": 51,
   "id": "1e42cd07-0faf-4198-8358-98965e05864a",
   "metadata": {
    "tags": []
   },
   "outputs": [],
   "source": [
    "PE = PositionalEncoding(20, dropout=0, max_len=116)"
   ]
  },
  {
   "cell_type": "code",
   "execution_count": 57,
   "id": "219e4c7a-2745-4284-9356-1218f701609a",
   "metadata": {
    "tags": []
   },
   "outputs": [
    {
     "data": {
      "text/plain": [
       "tensor([[[ 0.3726,  2.1149, -0.1163,  ...,  2.0858,  0.4086,  0.7064],\n",
       "         [ 1.3651,  0.6509,  0.4509,  ...,  1.4161,  0.3799,  1.0557],\n",
       "         [ 0.9893, -0.5883,  0.9709,  ...,  0.9113,  0.8564,  1.0002],\n",
       "         ...,\n",
       "         [-0.0911,  1.1309,  0.7992,  ...,  1.0294,  0.1056,  0.9795],\n",
       "         [ 0.7910,  0.7551,  0.9415,  ...,  1.0294,  0.1058,  0.9795],\n",
       "         [ 0.9515, -0.1902,  0.9296,  ...,  1.0293,  0.1061,  0.9795]]],\n",
       "       grad_fn=<AddBackward0>)"
      ]
     },
     "execution_count": 57,
     "metadata": {},
     "output_type": "execute_result"
    }
   ],
   "source": [
    "PE(output)"
   ]
  },
  {
   "cell_type": "code",
   "execution_count": 20,
   "id": "4e5ff1b9-a7bd-42f9-9c64-bbaa21e4ecd8",
   "metadata": {
    "tags": []
   },
   "outputs": [
    {
     "data": {
      "text/plain": [
       "torch.Size([1, 469, 20])"
      ]
     },
     "execution_count": 20,
     "metadata": {},
     "output_type": "execute_result"
    }
   ],
   "source": [
    "c.shape"
   ]
  },
  {
   "cell_type": "code",
   "execution_count": 53,
   "id": "dabaf681-db70-4253-8ecf-6b139072d0ce",
   "metadata": {
    "tags": []
   },
   "outputs": [],
   "source": [
    "out2 = conv(c)"
   ]
  },
  {
   "cell_type": "code",
   "execution_count": 54,
   "id": "1c8d724d-a6c7-468c-a9f2-ddfb7508bf62",
   "metadata": {
    "tags": []
   },
   "outputs": [
    {
     "data": {
      "text/plain": [
       "torch.Size([64, 234, 20])"
      ]
     },
     "execution_count": 54,
     "metadata": {},
     "output_type": "execute_result"
    }
   ],
   "source": [
    "out2.shape"
   ]
  },
  {
   "cell_type": "code",
   "execution_count": 36,
   "id": "78362369-4423-4446-8ed9-56a0e965fff3",
   "metadata": {
    "tags": []
   },
   "outputs": [],
   "source": [
    "tens = torch.tensor(new, dtype=torch.float)"
   ]
  },
  {
   "cell_type": "code",
   "execution_count": 37,
   "id": "a70d823b-7140-413f-a563-e4e8f2962d2e",
   "metadata": {
    "tags": []
   },
   "outputs": [
    {
     "data": {
      "text/plain": [
       "tensor([[-2.0100, -1.4308,  0.7149,  ...,  0.0000,  0.0000,  0.0000],\n",
       "        [ 0.1171,  0.2344,  0.9171,  ...,  0.0000,  0.0000,  0.0000],\n",
       "        [ 0.8863,  0.1718, -0.9830,  ...,  0.0000,  0.0000,  0.0000],\n",
       "        ...,\n",
       "        [ 1.7579,  0.3039, -0.0946,  ...,  0.0000,  0.0000,  0.0000],\n",
       "        [ 0.6065,  0.5445,  0.9783,  ...,  0.0000,  0.0000,  0.0000],\n",
       "        [ 0.2840,  0.7986,  0.7165,  ...,  0.0000,  0.0000,  0.0000]])"
      ]
     },
     "execution_count": 37,
     "metadata": {},
     "output_type": "execute_result"
    }
   ],
   "source": [
    "tens"
   ]
  },
  {
   "cell_type": "code",
   "execution_count": 49,
   "id": "6c2cacb8-79c6-4a6b-afe2-e353ee7f52a8",
   "metadata": {
    "tags": []
   },
   "outputs": [],
   "source": [
    "out = lin(tens)"
   ]
  },
  {
   "cell_type": "code",
   "execution_count": 46,
   "id": "4a3cc832-7b4f-4991-82cb-74c8b8544ef6",
   "metadata": {
    "tags": []
   },
   "outputs": [
    {
     "data": {
      "text/plain": [
       "torch.Size([20, 469])"
      ]
     },
     "execution_count": 46,
     "metadata": {},
     "output_type": "execute_result"
    }
   ],
   "source": [
    "out.shape"
   ]
  },
  {
   "cell_type": "code",
   "execution_count": 50,
   "id": "e12b3473-3c24-4a46-9c5c-a435a4df3396",
   "metadata": {
    "tags": []
   },
   "outputs": [
    {
     "data": {
      "text/plain": [
       "tensor([[-0.2222,  0.0241, -0.0424,  ...,  0.6055,  0.5242, -0.0349],\n",
       "        [ 0.3531,  0.0039, -0.3398,  ...,  0.2529, -0.7707,  0.3558],\n",
       "        [-0.6315, -0.1471,  0.3263,  ..., -0.5412,  0.1078, -0.6235],\n",
       "        ...,\n",
       "        [ 0.0139,  0.2335,  0.5378,  ..., -0.1993,  0.4399,  0.2300],\n",
       "        [ 0.7841, -0.2230, -0.5738,  ..., -0.2932,  0.0626,  0.4008],\n",
       "        [-0.4723, -0.3545,  0.5281,  ..., -0.0046,  0.2679, -0.4151]],\n",
       "       grad_fn=<MmBackward0>)"
      ]
     },
     "execution_count": 50,
     "metadata": {},
     "output_type": "execute_result"
    }
   ],
   "source": [
    "out"
   ]
  },
  {
   "cell_type": "code",
   "execution_count": 24,
   "id": "371b9def-1299-4657-9242-709a8406ecb9",
   "metadata": {},
   "outputs": [],
   "source": [
    "class VectorizeChar:\n",
    "    def __init__(self, max_len=50):\n",
    "        self.vocab = (\n",
    "            [\"-\", \"#\", \"<\", \">\"]\n",
    "            + [chr(i + 96) for i in range(1, 27)]\n",
    "            + [\" \", \".\", \",\", \"?\"]\n",
    "        )\n",
    "        self.max_len = max_len\n",
    "        self.char_to_idx = {}\n",
    "        for i, ch in enumerate(self.vocab):\n",
    "            self.char_to_idx[ch] = i\n",
    "\n",
    "    def __call__(self, text):\n",
    "        text = text.lower()\n",
    "        text = text[: self.max_len - 2]\n",
    "        text = \"<\" + text + \">\"\n",
    "        pad_len = self.max_len - len(text)\n",
    "        return [self.char_to_idx.get(ch, 1) for ch in text] + [0] * pad_len\n",
    "\n",
    "    def get_vocabulary(self):\n",
    "        return self.vocab"
   ]
  },
  {
   "cell_type": "code",
   "execution_count": 25,
   "id": "309963d1-a82c-405f-8507-233332e013a3",
   "metadata": {
    "tags": []
   },
   "outputs": [
    {
     "name": "stdout",
     "output_type": "stream",
     "text": [
      "vocab size 34\n",
      "[2, 11, 8, 28, 30, 26, 4, 28, 30, 12, 30, 10, 18, 23, 30, 4, 30, 17, 8, 26, 30, 6, 18, 16, 19, 15, 4, 12, 17, 23, 3, 0, 0, 0, 0, 0, 0, 0, 0, 0, 0, 0, 0, 0, 0, 0, 0, 0, 0, 0, 0, 0, 0, 0, 0, 0, 0, 0, 0, 0, 0, 0, 0, 0, 0, 0, 0, 0, 0, 0, 0, 0, 0, 0, 0, 0, 0, 0, 0, 0, 0, 0, 0, 0, 0, 0, 0, 0, 0, 0, 0, 0, 0, 0, 0, 0, 0, 0, 0, 0, 0, 0, 0, 0, 0, 0, 0, 0, 0, 0, 0, 0, 0, 0, 0, 0, 0, 0, 0, 0, 0, 0, 0, 0, 0, 0, 0, 0, 0, 0, 0, 0, 0, 0, 0, 0, 0, 0, 0, 0, 0, 0, 0, 0, 0, 0, 0, 0, 0, 0, 0, 0, 0, 0, 0, 0, 0, 0, 0, 0, 0, 0, 0, 0, 0, 0, 0, 0, 0, 0, 0, 0, 0, 0, 0, 0, 0, 0, 0, 0, 0, 0, 0, 0, 0, 0, 0, 0, 0, 0, 0, 0, 0, 0, 0, 0, 0, 0, 0, 0, 0, 0, 0, 0, 0, 0, 0, 0, 0, 0, 0, 0, 0, 0, 0, 0, 0, 0, 0, 0, 0, 0, 0, 0, 0, 0, 0, 0, 0, 0, 0, 0, 0, 0, 0, 0, 0, 0, 0, 0, 0, 0, 0, 0, 0, 0, 0, 0, 0, 0, 0, 0, 0, 0, 0, 0, 0, 0, 0, 0, 0, 0, 0, 0, 0, 0, 0, 0, 0, 0, 0, 0, 0, 0, 0, 0, 0, 0, 0, 0, 0, 0, 0, 0, 0, 0, 0, 0, 0, 0, 0, 0, 0, 0, 0, 0, 0, 0, 0, 0, 0, 0, 0, 0, 0, 0, 0, 0, 0, 0, 0, 0, 0, 0, 0, 0, 0, 0, 0, 0, 0, 0, 0, 0, 0, 0, 0, 0, 0, 0, 0, 0, 0, 0, 0, 0, 0, 0, 0, 0, 0, 0, 0, 0, 0, 0, 0, 0, 0, 0, 0, 0, 0, 0, 0, 0, 0, 0, 0, 0, 0, 0, 0, 0, 0, 0, 0, 0, 0, 0, 0, 0, 0, 0, 0, 0, 0, 0, 0, 0, 0, 0, 0, 0, 0, 0, 0, 0, 0, 0, 0, 0, 0, 0, 0, 0, 0, 0, 0, 0]\n"
     ]
    }
   ],
   "source": [
    "vectorizer = VectorizeChar(400)\n",
    "print(\"vocab size\", len(vectorizer.get_vocabulary()))\n",
    "print(vectorizer(\"hey way i got a new complaint\"))"
   ]
  },
  {
   "cell_type": "code",
   "execution_count": 26,
   "id": "92fa4481-72a9-485f-88a4-c8c3c8731ef7",
   "metadata": {
    "tags": []
   },
   "outputs": [],
   "source": [
    "vect_str_list = [vectorizer(txt) for txt in str_list]"
   ]
  },
  {
   "cell_type": "code",
   "execution_count": 11,
   "id": "533a0c18-a3ef-477a-a11c-2932eeaebe31",
   "metadata": {
    "tags": []
   },
   "outputs": [],
   "source": [
    "dataset = CustomDataset(np_wav, vect_str_list)\n",
    "dataloader = DataLoader(dataset, batch_size=256, collate_fn=collate_fn, num_workers=0) # + num thread num_workers=6,"
   ]
  },
  {
   "cell_type": "code",
   "execution_count": 12,
   "id": "ea585593-ccff-477d-9f3d-acbfc02a2492",
   "metadata": {},
   "outputs": [],
   "source": [
    "def get_angles(pos, k, d):\n",
    "    # START CODE HERE\n",
    "    # Get i from dimension span k\n",
    "    i = k//2\n",
    "    # Calculate the angles using pos, i and d\n",
    "    angles = pos / (np.power(10000, 2 * i / d))\n",
    "    # END CODE HERE\n",
    "    \n",
    "    return angles"
   ]
  },
  {
   "cell_type": "code",
   "execution_count": 13,
   "id": "285ac3de-949b-49b9-b11e-a1659c02a772",
   "metadata": {
    "tags": []
   },
   "outputs": [],
   "source": [
    "def positional_encoding(positions, d):\n",
    "    \"\"\"\n",
    "    Precomputes a matrix with all the positional encodings \n",
    "    \n",
    "    Arguments:\n",
    "        positions (int) -- Maximum number of positions to be encoded \n",
    "        d (int) -- Encoding size \n",
    "    \n",
    "    Returns:\n",
    "        pos_encoding -- (1, position, d_model) A matrix with the positional encodings\n",
    "    \"\"\"\n",
    "    # START CODE HERE\n",
    "    # initialize a matrix angle_rads of all the angles \n",
    "    angle_rads = get_angles(np.arange(positions)[:, np.newaxis],\n",
    "                            np.arange(d)[np.newaxis, :],\n",
    "                            d)\n",
    "  \n",
    "    # apply sin to even indices in the array; 2i\n",
    "    angle_rads[:, 0::2] = np.sin(angle_rads[:, 0::2])\n",
    "  \n",
    "    # apply cos to odd indices in the array; 2i+1\n",
    "    angle_rads[:, 1::2] = np.cos(angle_rads[:, 1::2])\n",
    "    # END CODE HERE\n",
    "    \n",
    "    pos_encoding = angle_rads[np.newaxis, ...]\n",
    "    \n",
    "    return torch.tensor(pos_encoding, dtype=torch.float) # tensor"
   ]
  },
  {
   "cell_type": "code",
   "execution_count": 3,
   "id": "ddf89b50-fc99-4511-aeff-5983de30756d",
   "metadata": {
    "tags": []
   },
   "outputs": [],
   "source": [
    "class PositionalEncoding(nn.Module):\n",
    "\n",
    "    def __init__(self, d_model, dropout=0.1, max_len=469):\n",
    "        super().__init__()\n",
    "        self.dropout = nn.Dropout(p=dropout)\n",
    "\n",
    "        position = torch.arange(max_len).unsqueeze(1)\n",
    "        div_term = torch.exp(torch.arange(0, d_model, 2) * (-math.log(10000.0) / d_model))\n",
    "        pe = torch.zeros(1, max_len, d_model)\n",
    "        pe[0, :, 0::2] = torch.sin(position * div_term)\n",
    "        pe[0, :, 1::2] = torch.cos(position * div_term)\n",
    "        self.register_buffer('pe', pe)\n",
    "\n",
    "    def forward(self, x):\n",
    "        \"\"\"\n",
    "        Arguments:\n",
    "            x: Tensor, shape ``[seq_len, batch_size, embedding_dim]`` no\n",
    "        \"\"\"\n",
    "        x = x + self.pe[:, :x.size(1)]\n",
    "        return self.dropout(x)"
   ]
  },
  {
   "cell_type": "code",
   "execution_count": 4,
   "id": "c9c22ca3-0607-4012-bcc3-8a009f7f59f8",
   "metadata": {
    "tags": []
   },
   "outputs": [
    {
     "data": {
      "text/plain": [
       "PositionalEncoding(\n",
       "  (dropout): Dropout(p=0.1, inplace=False)\n",
       ")"
      ]
     },
     "execution_count": 4,
     "metadata": {},
     "output_type": "execute_result"
    }
   ],
   "source": [
    "PositionalEncoding(20)"
   ]
  },
  {
   "cell_type": "code",
   "execution_count": null,
   "id": "fb3e43be-fa61-4535-b1ed-ef597f697270",
   "metadata": {},
   "outputs": [],
   "source": []
  },
  {
   "cell_type": "code",
   "execution_count": 40,
   "id": "3d9babdc-484a-44e9-87a2-ec92401b04fd",
   "metadata": {
    "tags": []
   },
   "outputs": [],
   "source": [
    "class SpeechFeatureEmbedding(nn.Module):\n",
    "    def __init__(self, embedding_dim, num_hid=64):\n",
    "        super(SpeechFeatureEmbedding, self).__init__()\n",
    "        self.conv1 = nn.Sequential(nn.Conv2d(1, num_hid, 3, padding=(0, 1), stride=(2, 1)),\n",
    "                             nn.BatchNorm2d(num_hid),\n",
    "                             nn.ReLU(),\n",
    "                             nn.Conv2d(num_hid, num_hid, 3, padding=(0, 1), stride=(2, 1)),\n",
    "                             nn.BatchNorm2d(num_hid),\n",
    "                             nn.ReLU()\n",
    "                            )\n",
    "        self.conv3 = nn.Sequential(nn.Conv2d(num_hid, 1, 1, padding=\"same\"),\n",
    "                             nn.BatchNorm2d(1),\n",
    "                             nn.ReLU(),\n",
    "                            )\n",
    "        self.lin = nn.Linear(embedding_dim, embedding_dim, bias=False)\n",
    "        \n",
    "    def forward(self, x):\n",
    "        x = self.conv1(x)\n",
    "        x = self.conv3(x)\n",
    "        x = self.lin(x)\n",
    "        return torch.squeeze(x, 1)"
   ]
  },
  {
   "cell_type": "code",
   "execution_count": null,
   "id": "f9775351-7a25-4a88-9e9b-2be1367c1c92",
   "metadata": {},
   "outputs": [],
   "source": [
    "def FullyConnected(embedding_dim, fully_connected_dim):\n",
    "    return nn.Sequential(\n",
    "        nn.Linear(embedding_dim, fully_connected_dim),\n",
    "        nn.ReLU(),\n",
    "        nn.Linear(fully_connected_dim, embedding_dim)\n",
    "        )"
   ]
  },
  {
   "cell_type": "code",
   "execution_count": null,
   "id": "1ef8c131-9c36-4d9c-bf11-448f4e304d6f",
   "metadata": {},
   "outputs": [],
   "source": [
    "class EncoderLayer(nn.Module):\n",
    "    def __init__(self, embedding_dim, num_heads, fully_connected_dim,\n",
    "                 dropout_rate=0.1, layernorm_eps=1e-6):\n",
    "        super(EncoderLayer, self).__init__()\n",
    "        self.mha = nn.MultiheadAttention(embed_dim=embedding_dim, num_heads=num_heads, dropout=dropout_rate)\n",
    "        self.ffn = FullyConnected(embedding_dim, fully_connected_dim)\n",
    "        self.norm1 = nn.LayerNorm(normalized_shape=embedding_dim, eps=layernorm_eps)\n",
    "        self.norm2 = nn.LayerNorm(normalized_shape=embedding_dim, eps=layernorm_eps)\n",
    "        self.dropout_ffn = nn.Dropout(dropout_rate)\n",
    "        \n",
    "    def forward(self, inputs):\n",
    "        \n",
    "        self_mha_output = self.mha(inputs, inputs, inputs)\n",
    "        \n",
    "        skip_attention = self.norm1(torch.add(inputs, self_mha_output))\n",
    "        \n",
    "        ffn_output = self.ffn(skip_attention)\n",
    "        \n",
    "        ffn_output = self.dropout_ffn(ffn_output)\n",
    "        \n",
    "        encoder_layer_out = self.norm2(torch.add(skip_attention, ffn_output))\n",
    "        \n",
    "        return encoder_layer_out        "
   ]
  },
  {
   "cell_type": "markdown",
   "id": "b7a81a01-22da-4d86-9186-b2bf78dcec56",
   "metadata": {},
   "source": [
    "embedding_dim = d_model\n",
    "max_len = ntoken (time)"
   ]
  },
  {
   "cell_type": "code",
   "execution_count": null,
   "id": "88fbfd1c-0c0e-4143-b338-6ef0912e3e81",
   "metadata": {},
   "outputs": [],
   "source": [
    "class Encoder(nn.Module):\n",
    "    def __init__(self, num_layers, embedding_dim, num_heads, fully_connected_dim,\n",
    "               max_len, dropout_rate=0.1, layernorm_eps=1e-6):\n",
    "        super(Encoder, self).__init__()\n",
    "        \n",
    "        self.embedding_dim = embedding_dim\n",
    "        self.num_layers = num_layers\n",
    "        \n",
    "        self.pos_encoding = PositionalEncoding(self.embedding_dim, dropout_rate, max_len) # 3\n",
    "        \n",
    "        self.enc_layers = [EncoderLayer(embedding_dim=self.embedding_dim,\n",
    "                                        num_heads=num_heads,\n",
    "                                        fully_connected_dim=fully_connected_dim,\n",
    "                                        dropout_rate=dropout_rate,\n",
    "                                        layernorm_eps=layernorm_eps) \n",
    "                           for _ in range(self.num_layers)]\n",
    "    \n",
    "    def forward(self, inputs):\n",
    "        \n",
    "        #x = inputs * math.sqrt(self.embedding_dim) #\n",
    "        x = pos_encoding(inputs) #\n",
    "        \n",
    "        for i in range(self.num_layers):\n",
    "            x = self.enc_layers[i](x, training)\n",
    "        \n",
    "        return x"
   ]
  },
  {
   "cell_type": "code",
   "execution_count": null,
   "id": "9ac27f9f-daaa-4ffc-b439-e14625720359",
   "metadata": {},
   "outputs": [],
   "source": []
  },
  {
   "cell_type": "code",
   "execution_count": 35,
   "id": "5ea4c824-4451-412f-8afc-b65cc6b461a0",
   "metadata": {
    "tags": []
   },
   "outputs": [],
   "source": [
    "vocab_size = len(vectorizer.get_vocabulary())"
   ]
  },
  {
   "cell_type": "code",
   "execution_count": 34,
   "id": "c97c3b17-5043-4491-9745-cd743370c1da",
   "metadata": {
    "tags": []
   },
   "outputs": [
    {
     "name": "stdout",
     "output_type": "stream",
     "text": [
      "[2, 12, 17, 30, 9, 4, 6, 23, 32, 30, 11, 8, 30, 11, 4, 7, 30, 15, 18, 18, 14, 8, 7, 30, 4, 23, 30, 23, 26, 8, 17, 23, 28, 30, 25, 8, 21, 28, 30, 16, 24, 6, 11, 30, 4, 22, 30, 11, 8, 30, 15, 18, 18, 14, 8, 7, 30, 4, 23, 30, 22, 12, 27, 23, 28, 32, 30, 15, 4, 6, 14, 12, 17, 10, 30, 4, 30, 15, 12, 23, 23, 15, 8, 30, 18, 9, 30, 23, 11, 8, 30, 10, 21, 4, 28, 17, 8, 22, 22, 31, 3, 0, 0, 0, 0, 0, 0, 0, 0, 0, 0, 0, 0, 0, 0, 0, 0, 0, 0, 0, 0, 0, 0, 0, 0, 0, 0, 0, 0, 0, 0, 0, 0, 0, 0, 0, 0, 0, 0, 0, 0, 0, 0, 0, 0, 0, 0, 0, 0, 0, 0, 0, 0, 0, 0, 0, 0, 0, 0, 0, 0, 0, 0, 0, 0, 0, 0, 0, 0, 0, 0, 0, 0, 0, 0, 0, 0, 0, 0, 0, 0, 0, 0, 0, 0, 0, 0, 0, 0, 0, 0, 0, 0, 0, 0, 0, 0, 0, 0, 0, 0, 0, 0, 0, 0, 0, 0, 0, 0, 0, 0, 0, 0, 0, 0, 0, 0, 0, 0, 0, 0, 0, 0, 0, 0, 0, 0, 0, 0, 0, 0, 0, 0, 0, 0, 0, 0, 0, 0, 0, 0, 0, 0, 0, 0, 0, 0, 0, 0, 0, 0, 0, 0, 0, 0, 0, 0, 0, 0, 0, 0, 0, 0, 0, 0, 0, 0, 0, 0, 0, 0, 0, 0, 0, 0, 0, 0, 0, 0, 0, 0, 0, 0, 0, 0, 0, 0, 0, 0, 0, 0, 0, 0, 0, 0, 0, 0, 0, 0, 0, 0, 0, 0, 0, 0, 0, 0, 0, 0, 0, 0, 0, 0, 0, 0, 0, 0, 0, 0, 0, 0, 0, 0, 0, 0, 0, 0, 0, 0, 0, 0, 0, 0, 0, 0, 0, 0, 0, 0, 0, 0, 0, 0, 0, 0, 0, 0, 0, 0, 0, 0, 0, 0, 0, 0, 0, 0, 0, 0, 0, 0, 0, 0, 0, 0, 0, 0, 0, 0, 0, 0, 0, 0, 0, 0, 0, 0, 0, 0, 0, 0, 0, 0, 0, 0, 0, 0, 0, 0, 0, 0, 0, 0, 0, 0, 0, 0, 0, 0, 0]\n"
     ]
    }
   ],
   "source": [
    "print(vect_str_list[1])"
   ]
  },
  {
   "cell_type": "markdown",
   "id": "af42c0f4-5a41-4f78-b74a-b91cd54af28e",
   "metadata": {},
   "source": [
    "внутрь декодера (не уровня) maxlen = seq_len"
   ]
  },
  {
   "cell_type": "code",
   "execution_count": null,
   "id": "cfe53555-31e5-4dc3-92a6-368c2b6b1bd2",
   "metadata": {},
   "outputs": [],
   "source": [
    "class TokenEmbedding(nn.Module):\n",
    "    def __init__(self, num_vocab=34, maxlen=400, embedding_dim=64, dropout_rate=0.1):\n",
    "        super(TokenEmbedding, self).__init__()\n",
    "        self.embedding_dim = embedding_dim\n",
    "        self.emb = nn.Embedding(num_vocab, embedding_dim)\n",
    "        self.pos_emb = PositionalEncoding(embedding_dim, dropout=0, max_len=maxlen) # d_model, dropout=0.1, max_len=469\n",
    "\n",
    "    def forward(self, inputs):\n",
    "        x = self.emb(inputs)\n",
    "        x = x * math.sqrt(self.embedding_dim)\n",
    "        x = self.pos_emb(x)\n",
    "        return x"
   ]
  },
  {
   "cell_type": "code",
   "execution_count": null,
   "id": "c13de5c3-0c5a-4705-8560-f771fbe73ee9",
   "metadata": {},
   "outputs": [],
   "source": [
    "class DecoderLayer(nn.Module):\n",
    "    def __init__(self, embedding_dim, num_heads, fully_connected_dim, dropout_rate=0.1, layernorm_eps=1e-6):\n",
    "        super(DecoderLayer, self).__init__()\n",
    "        \n",
    "        self.mha1 = nn.MultiheadAttention(embed_dim=embedding_dim, num_heads=num_heads, dropout=dropout_rate)\n",
    "        self.mha2 = nn.MultiheadAttention(embed_dim=embedding_dim, num_heads=num_heads, dropout=dropout_rate)\n",
    "        self.ffn = FullyConnected(embedding_dim, fully_connected_dim)\n",
    "        self.norm1 = nn.LayerNorm(normalized_shape=embedding_dim, eps=layernorm_eps)\n",
    "        self.norm2 = nn.LayerNorm(normalized_shape=embedding_dim, eps=layernorm_eps)\n",
    "        self.norm3 = nn.LayerNorm(normalized_shape=embedding_dim, eps=layernorm_eps)\n",
    "        self.dropout_ffn = nn.Dropout(dropout_rate)\n",
    "        \n",
    "    def forward(self, inputs, enc_output): # look_ahead_mask !!!!\n",
    "        \n",
    "        self_mha1_output = self.mha1(inputs, inputs, inputs) # look_ahead_mask !!!!\n",
    "        Q1 = self.norm1(torch.add(self_mha1_output, inputs))\n",
    "        \n",
    "        self_mha2_output = self.mha2(query=Q1, key=enc_output, value=enc_output) # look_ahead_mask ???\n",
    "        skip_attention2 = self.norm2(torch.add(self_mha2_output, Q1))\n",
    "        \n",
    "        ffn_output = self.ffn(skip_attention2)\n",
    "        drop_output = self.dropout_ffn(drop_output)\n",
    "        skip3 = self.norm3(drop_output)\n",
    "        \n",
    "        return skip3\n",
    "        "
   ]
  },
  {
   "cell_type": "code",
   "execution_count": 17,
   "id": "e6045213-a59d-4f50-9d72-3984b4360c95",
   "metadata": {
    "tags": []
   },
   "outputs": [],
   "source": [
    "#print(vect_str_list[25000])"
   ]
  },
  {
   "cell_type": "code",
   "execution_count": null,
   "id": "dd790665-4caa-480b-afec-751a19dca610",
   "metadata": {},
   "outputs": [],
   "source": [
    "def causal_attention_mask(self, batch_size, n_dest, n_src, dtype):\n",
    "    \"\"\"Masks the upper half of the dot product matrix in self attention.\n",
    "\n",
    "    This prevents flow of information from future tokens to current token.\n",
    "    1's in the lower triangle, counting from the lower right corner.\n",
    "    \"\"\"\n",
    "    i = tf.range(n_dest)[:, None]\n",
    "    j = tf.range(n_src)\n",
    "    m = i >= j - n_src + n_dest\n",
    "    mask = tf.cast(m, dtype)\n",
    "    mask = tf.reshape(mask, [1, n_dest, n_src])\n",
    "    mult = tf.concat(\n",
    "        [tf.expand_dims(batch_size, -1), tf.constant([1, 1], dtype=tf.int32)], 0\n",
    "    )\n",
    "    return tf.tile(mask, mult)\n"
   ]
  },
  {
   "cell_type": "code",
   "execution_count": 12,
   "id": "8e979947-5e37-445d-aacb-d8e1849c1f39",
   "metadata": {
    "tags": []
   },
   "outputs": [
    {
     "name": "stdout",
     "output_type": "stream",
     "text": [
      "0\n",
      "torch.Size([256, 1, 469, 20])\n",
      "torch.Size([256, 400])\n",
      "1\n",
      "torch.Size([256, 1, 469, 20])\n",
      "torch.Size([256, 400])\n",
      "2\n",
      "torch.Size([256, 1, 469, 20])\n",
      "torch.Size([256, 400])\n",
      "3\n",
      "torch.Size([256, 1, 469, 20])\n",
      "torch.Size([256, 400])\n",
      "4\n",
      "torch.Size([256, 1, 469, 20])\n",
      "torch.Size([256, 400])\n",
      "5\n",
      "torch.Size([256, 1, 469, 20])\n",
      "torch.Size([256, 400])\n",
      "6\n",
      "torch.Size([256, 1, 469, 20])\n",
      "torch.Size([256, 400])\n",
      "7\n",
      "torch.Size([256, 1, 469, 20])\n",
      "torch.Size([256, 400])\n",
      "8\n",
      "torch.Size([256, 1, 469, 20])\n",
      "torch.Size([256, 400])\n",
      "9\n",
      "torch.Size([256, 1, 469, 20])\n",
      "torch.Size([256, 400])\n",
      "10\n",
      "torch.Size([256, 1, 469, 20])\n",
      "torch.Size([256, 400])\n",
      "11\n",
      "torch.Size([256, 1, 469, 20])\n",
      "torch.Size([256, 400])\n",
      "12\n",
      "torch.Size([256, 1, 469, 20])\n",
      "torch.Size([256, 400])\n",
      "13\n",
      "torch.Size([256, 1, 469, 20])\n",
      "torch.Size([256, 400])\n",
      "14\n",
      "torch.Size([256, 1, 469, 20])\n",
      "torch.Size([256, 400])\n",
      "15\n",
      "torch.Size([256, 1, 469, 20])\n",
      "torch.Size([256, 400])\n",
      "16\n",
      "torch.Size([256, 1, 469, 20])\n",
      "torch.Size([256, 400])\n",
      "17\n",
      "torch.Size([256, 1, 469, 20])\n",
      "torch.Size([256, 400])\n",
      "18\n",
      "torch.Size([256, 1, 469, 20])\n",
      "torch.Size([256, 400])\n",
      "19\n",
      "torch.Size([256, 1, 469, 20])\n",
      "torch.Size([256, 400])\n",
      "20\n",
      "torch.Size([256, 1, 469, 20])\n",
      "torch.Size([256, 400])\n",
      "21\n",
      "torch.Size([256, 1, 469, 20])\n",
      "torch.Size([256, 400])\n",
      "22\n",
      "torch.Size([256, 1, 469, 20])\n",
      "torch.Size([256, 400])\n",
      "23\n",
      "torch.Size([256, 1, 469, 20])\n",
      "torch.Size([256, 400])\n",
      "24\n",
      "torch.Size([256, 1, 469, 20])\n",
      "torch.Size([256, 400])\n",
      "25\n",
      "torch.Size([256, 1, 469, 20])\n",
      "torch.Size([256, 400])\n",
      "26\n",
      "torch.Size([256, 1, 469, 20])\n",
      "torch.Size([256, 400])\n",
      "27\n",
      "torch.Size([256, 1, 469, 20])\n",
      "torch.Size([256, 400])\n",
      "28\n",
      "torch.Size([256, 1, 469, 20])\n",
      "torch.Size([256, 400])\n",
      "29\n",
      "torch.Size([256, 1, 469, 20])\n",
      "torch.Size([256, 400])\n",
      "30\n",
      "torch.Size([256, 1, 469, 20])\n",
      "torch.Size([256, 400])\n",
      "31\n",
      "torch.Size([256, 1, 469, 20])\n",
      "torch.Size([256, 400])\n",
      "32\n",
      "torch.Size([256, 1, 469, 20])\n",
      "torch.Size([256, 400])\n",
      "33\n",
      "torch.Size([256, 1, 469, 20])\n",
      "torch.Size([256, 400])\n",
      "34\n",
      "torch.Size([256, 1, 469, 20])\n",
      "torch.Size([256, 400])\n",
      "35\n",
      "torch.Size([256, 1, 469, 20])\n",
      "torch.Size([256, 400])\n",
      "36\n",
      "torch.Size([256, 1, 469, 20])\n",
      "torch.Size([256, 400])\n",
      "37\n",
      "torch.Size([256, 1, 469, 20])\n",
      "torch.Size([256, 400])\n",
      "38\n",
      "torch.Size([256, 1, 469, 20])\n",
      "torch.Size([256, 400])\n",
      "39\n",
      "torch.Size([16, 1, 469, 20])\n",
      "torch.Size([16, 400])\n"
     ]
    }
   ],
   "source": [
    "for i, data in enumerate(dataloader):\n",
    "    x, y = data\n",
    "    print(i)\n",
    "    print(x.shape)\n",
    "    print(y.shape)"
   ]
  },
  {
   "cell_type": "code",
   "execution_count": null,
   "id": "fb13b4ed-aef3-4726-b362-a081e4d6c239",
   "metadata": {},
   "outputs": [],
   "source": []
  },
  {
   "cell_type": "code",
   "execution_count": null,
   "id": "945f0058-9160-411f-ad46-10cd4130b52b",
   "metadata": {},
   "outputs": [],
   "source": []
  }
 ],
 "metadata": {
  "kernelspec": {
   "display_name": "Python 3 (ipykernel)",
   "language": "python",
   "name": "python3"
  },
  "language_info": {
   "codemirror_mode": {
    "name": "ipython",
    "version": 3
   },
   "file_extension": ".py",
   "mimetype": "text/x-python",
   "name": "python",
   "nbconvert_exporter": "python",
   "pygments_lexer": "ipython3",
   "version": "3.11.3"
  }
 },
 "nbformat": 4,
 "nbformat_minor": 5
}
