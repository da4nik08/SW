{
 "cells": [
  {
   "cell_type": "code",
   "execution_count": 1,
   "id": "8159cabd-100f-4427-8529-a859c288b103",
   "metadata": {
    "tags": []
   },
   "outputs": [],
   "source": [
    "import torch\n",
    "from torch.utils.data import Dataset, DataLoader\n",
    "from custom_dataset import CustomDataset\n",
    "from collate import collate_fn\n",
    "from torch import nn\n",
    "import pickle\n",
    "from scipy import signal\n",
    "import numpy as np\n",
    "import matplotlib.pyplot as plt"
   ]
  },
  {
   "cell_type": "code",
   "execution_count": 11,
   "id": "4c4cb856-9b7f-49a4-9ccc-f33e12dea544",
   "metadata": {
    "tags": []
   },
   "outputs": [],
   "source": [
    "device = torch.device('cuda' if torch.cuda.is_available() else 'cpu')"
   ]
  },
  {
   "cell_type": "code",
   "execution_count": 12,
   "id": "be4059f5-6533-49ca-94dc-5340dd4f1cd2",
   "metadata": {
    "tags": []
   },
   "outputs": [
    {
     "name": "stdout",
     "output_type": "stream",
     "text": [
      "cuda\n"
     ]
    }
   ],
   "source": [
    "#model.to(device)"
   ]
  },
  {
   "cell_type": "code",
   "execution_count": 2,
   "id": "84949da5-f671-44a4-a2df-ef0e4d791b40",
   "metadata": {},
   "outputs": [],
   "source": [
    "def get_pkl(file_path):\n",
    "    with open(file_path, 'rb') as file:\n",
    "        loaded_list = pickle.load(file)\n",
    "    return loaded_list"
   ]
  },
  {
   "cell_type": "code",
   "execution_count": 3,
   "id": "402fc5b3-d569-4a13-82e3-9fe92619d5e6",
   "metadata": {},
   "outputs": [],
   "source": [
    "np_wav = get_pkl('np_wavs_cut.pkl')"
   ]
  },
  {
   "cell_type": "code",
   "execution_count": 4,
   "id": "4053f9db-7a63-4272-9491-14b0e5b9ed53",
   "metadata": {
    "tags": []
   },
   "outputs": [],
   "source": [
    "np_wav = np_wav[:10000]"
   ]
  },
  {
   "cell_type": "code",
   "execution_count": 5,
   "id": "f9d09e58-acd5-4076-8537-70f8c2ed8c02",
   "metadata": {
    "tags": []
   },
   "outputs": [],
   "source": [
    "str_list = get_pkl('str_list_cut.pkl')"
   ]
  },
  {
   "cell_type": "code",
   "execution_count": null,
   "id": "6444c7ba-e462-4bdc-a8e0-c8585a555b55",
   "metadata": {},
   "outputs": [],
   "source": [
    "str_list = str_list[:10000]"
   ]
  },
  {
   "cell_type": "code",
   "execution_count": 6,
   "id": "7e66648f-8cca-41ab-8698-95e573c0fdee",
   "metadata": {
    "tags": []
   },
   "outputs": [
    {
     "name": "stdout",
     "output_type": "stream",
     "text": [
      "32730\n",
      "32730\n"
     ]
    }
   ],
   "source": [
    "print(len(np_wav))\n",
    "print(len(str_list))"
   ]
  },
  {
   "cell_type": "code",
   "execution_count": 31,
   "id": "aabc663a-ae5e-48e1-b3c1-a49146a34b8d",
   "metadata": {
    "tags": []
   },
   "outputs": [],
   "source": [
    "def max_len(np_wav):    \n",
    "    length = [len(x) for x in np_wav]\n",
    "    \n",
    "    combined_list = list(zip(length, np_wav))\n",
    "\n",
    "    # Sort the combined list based on the elements of the first list\n",
    "    sorted_list = sorted(combined_list, key=lambda x: x[0])\n",
    "\n",
    "    # Separate the sorted elements into separate lists\n",
    "    sorted_first_list, sorted_second_list = zip(*sorted_list)\n",
    "    \n",
    "    return sorted_first_list, sorted_second_list"
   ]
  },
  {
   "cell_type": "code",
   "execution_count": 32,
   "id": "4361aac2-95f3-4690-bb63-cc5955e70553",
   "metadata": {
    "tags": []
   },
   "outputs": [],
   "source": [
    "x, y = max_len(np_wav)"
   ]
  },
  {
   "cell_type": "code",
   "execution_count": 46,
   "id": "cff06178-5127-4f24-a8a9-c76f8edb989b",
   "metadata": {
    "tags": []
   },
   "outputs": [
    {
     "name": "stdout",
     "output_type": "stream",
     "text": [
      "(513, 938)\n",
      "(513, 938)\n",
      "(513, 938)\n",
      "(513, 938)\n",
      "(513, 938)\n",
      "(513, 938)\n",
      "(513, 939)\n",
      "(513, 939)\n",
      "(513, 939)\n",
      "(513, 939)\n"
     ]
    }
   ],
   "source": [
    "for i in y[-10:]:\n",
    "    _, _, processed_data = signal.stft(i, 24000, nperseg=1024)\n",
    "    pd = np.power(np.abs(processed_data), 0.5)\n",
    "    print(processed_data.shape)"
   ]
  },
  {
   "cell_type": "code",
   "execution_count": 56,
   "id": "78d1b774-7d4e-4513-8415-651143f1f01f",
   "metadata": {
    "tags": []
   },
   "outputs": [],
   "source": [
    "f, t, processed_data = signal.stft(y[3000], 24000, nperseg=1024)\n",
    "\n",
    "# Create a new array filled with zeros of the desired shape\n",
    "new_array = np.pad(processed_data, ((0, 0), (0, 939 - processed_data.shape[1])), mode='constant')"
   ]
  },
  {
   "cell_type": "code",
   "execution_count": 9,
   "id": "533a0c18-a3ef-477a-a11c-2932eeaebe31",
   "metadata": {
    "tags": []
   },
   "outputs": [],
   "source": [
    "dataset = CustomDataset(np_wav, str_list)\n",
    "dataloader = DataLoader(dataset, batch_size=256, collate_fn=collate_fn, num_workers=0) # + num thread num_workers=6,"
   ]
  },
  {
   "cell_type": "code",
   "execution_count": 10,
   "id": "8e979947-5e37-445d-aacb-d8e1849c1f39",
   "metadata": {
    "tags": []
   },
   "outputs": [
    {
     "name": "stdout",
     "output_type": "stream",
     "text": [
      "0\n",
      "torch.Size([256, 513, 939])\n",
      "1\n",
      "torch.Size([256, 513, 939])\n",
      "2\n",
      "torch.Size([256, 513, 939])\n",
      "3\n",
      "torch.Size([256, 513, 939])\n",
      "4\n",
      "torch.Size([256, 513, 939])\n",
      "5\n",
      "torch.Size([256, 513, 939])\n",
      "6\n",
      "torch.Size([256, 513, 939])\n",
      "7\n",
      "torch.Size([256, 513, 939])\n",
      "8\n",
      "torch.Size([256, 513, 939])\n",
      "9\n",
      "torch.Size([256, 513, 939])\n",
      "10\n",
      "torch.Size([256, 513, 939])\n",
      "11\n",
      "torch.Size([256, 513, 939])\n",
      "12\n",
      "torch.Size([256, 513, 939])\n",
      "13\n",
      "torch.Size([256, 513, 939])\n",
      "14\n",
      "torch.Size([256, 513, 939])\n",
      "15\n",
      "torch.Size([256, 513, 939])\n",
      "16\n",
      "torch.Size([256, 513, 939])\n",
      "17\n",
      "torch.Size([256, 513, 939])\n",
      "18\n",
      "torch.Size([256, 513, 939])\n",
      "19\n",
      "torch.Size([256, 513, 939])\n",
      "20\n",
      "torch.Size([256, 513, 939])\n",
      "21\n",
      "torch.Size([256, 513, 939])\n",
      "22\n",
      "torch.Size([256, 513, 939])\n",
      "23\n",
      "torch.Size([256, 513, 939])\n",
      "24\n",
      "torch.Size([256, 513, 939])\n",
      "25\n",
      "torch.Size([256, 513, 939])\n",
      "26\n",
      "torch.Size([256, 513, 939])\n",
      "27\n",
      "torch.Size([256, 513, 939])\n",
      "28\n",
      "torch.Size([256, 513, 939])\n",
      "29\n",
      "torch.Size([256, 513, 939])\n",
      "30\n",
      "torch.Size([256, 513, 939])\n",
      "31\n",
      "torch.Size([256, 513, 939])\n",
      "32\n",
      "torch.Size([256, 513, 939])\n",
      "33\n",
      "torch.Size([256, 513, 939])\n",
      "34\n",
      "torch.Size([256, 513, 939])\n",
      "35\n",
      "torch.Size([256, 513, 939])\n",
      "36\n",
      "torch.Size([256, 513, 939])\n",
      "37\n",
      "torch.Size([256, 513, 939])\n",
      "38\n",
      "torch.Size([256, 513, 939])\n",
      "39\n",
      "torch.Size([16, 513, 939])\n"
     ]
    }
   ],
   "source": [
    "for i, data in enumerate(dataloader):\n",
    "    print(i)\n",
    "    print(data.shape)"
   ]
  },
  {
   "cell_type": "code",
   "execution_count": null,
   "id": "cfe53555-31e5-4dc3-92a6-368c2b6b1bd2",
   "metadata": {},
   "outputs": [],
   "source": []
  }
 ],
 "metadata": {
  "kernelspec": {
   "display_name": "Python 3 (ipykernel)",
   "language": "python",
   "name": "python3"
  },
  "language_info": {
   "codemirror_mode": {
    "name": "ipython",
    "version": 3
   },
   "file_extension": ".py",
   "mimetype": "text/x-python",
   "name": "python",
   "nbconvert_exporter": "python",
   "pygments_lexer": "ipython3",
   "version": "3.11.3"
  }
 },
 "nbformat": 4,
 "nbformat_minor": 5
}
